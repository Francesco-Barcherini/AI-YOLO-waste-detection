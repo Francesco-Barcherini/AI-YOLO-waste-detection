{
 "cells": [
  {
   "cell_type": "markdown",
   "id": "f2e751cb",
   "metadata": {},
   "source": [
    "# Clustering Metrics\n",
    "\n",
    "This script evaluates clustering metrics for object detection results using the YOLO/RTDETR model. It computes a custom mAP@50 metric on clusters generated with DBSCAN."
   ]
  },
  {
   "cell_type": "code",
   "execution_count": null,
   "id": "782af67d",
   "metadata": {},
   "outputs": [],
   "source": [
    "import os\n",
    "from ultralytics import YOLO, RTDETR\n",
    "import numpy as np\n",
    "from PIL import Image\n",
    "from tqdm import tqdm\n",
    "from sklearn.cluster import DBSCAN\n",
    "from scipy.spatial.distance import squareform # Not directly used in DBSCAN with precomputed, but good to keep if needed elsewhere\n",
    "import subprocess"
   ]
  },
  {
   "cell_type": "code",
   "execution_count": 41,
   "id": "31a6ce94",
   "metadata": {},
   "outputs": [],
   "source": [
    "# Image size (needed to denormalize/normalize YOLO boxes)\n",
    "IMG_WIDTH = 320\n",
    "IMG_HEIGHT = 320\n",
    "DATASET_DIR = \"../../datasets\"\n",
    "\n",
    "# --- Original function (for ground truth labels, no confidence) ---\n",
    "def read_yolo_labels(file_path):\n",
    "    \"\"\"\n",
    "    Reads a YOLO label file (ground truth) and returns list of (class_id, [x1, y1, x2, y2]) in absolute pixels.\n",
    "    Format: class_id x_center y_center width height\n",
    "    \"\"\"\n",
    "    boxes = []\n",
    "    with open(file_path, 'r') as f:\n",
    "        for line in f:\n",
    "            parts = line.strip().split()\n",
    "            class_id = int(parts[0])\n",
    "            x_center, y_center, w, h = map(float, parts[1:5])\n",
    "            # Convert from YOLO normalized format to [x1, y1, x2, y2] absolute pixels\n",
    "            x1 = (x_center - w / 2) * IMG_WIDTH\n",
    "            y1 = (y_center - h / 2) * IMG_HEIGHT\n",
    "            x2 = (x_center + w / 2) * IMG_WIDTH\n",
    "            y2 = (y_center + h / 2) * IMG_HEIGHT\n",
    "            boxes.append((class_id, [x1, y1, x2, y2]))\n",
    "    return boxes\n",
    "\n",
    "# --- NEW function to read prediction files (includes confidence) ---\n",
    "def read_yolo_predictions(file_path):\n",
    "    \"\"\"\n",
    "    Reads a YOLO prediction file and returns list of (class_id, confidence, [x1, y1, x2, y2]) in absolute pixels.\n",
    "    Format: class_id confidence x_center y_center width height\n",
    "    \"\"\"\n",
    "    predictions = []\n",
    "    with open(file_path, 'r') as f:\n",
    "        for line in f:\n",
    "            parts = line.strip().split()\n",
    "            if len(parts) < 6: # Ensure enough parts for class, conf, and bbox\n",
    "                print(f\"Warning: Skipping malformed line in {file_path}: {line.strip()}\")\n",
    "                continue\n",
    "            class_id = int(parts[0])\n",
    "            confidence = float(parts[5])\n",
    "            x_center, y_center, w, h = map(float, parts[1:5])\n",
    "            # Convert from YOLO normalized format to [x1, y1, x2, y2] absolute pixels\n",
    "            x1 = (x_center - w / 2) * IMG_WIDTH\n",
    "            y1 = (y_center - h / 2) * IMG_HEIGHT\n",
    "            x2 = (x_center + w / 2) * IMG_WIDTH\n",
    "            y2 = (y_center + h / 2) * IMG_HEIGHT\n",
    "            predictions.append((class_id, [x1, y1, x2, y2], confidence))\n",
    "    return predictions\n",
    "\n",
    "def get_centroid(box_coords):\n",
    "    \"\"\"Calculates the centroid of a bounding box [x1, y1, x2, y2].\"\"\"\n",
    "    x1, y1, x2, y2 = box_coords\n",
    "    return [(x1 + x2) / 2, (y1 + y2) / 2]\n",
    "\n",
    "# --- Modified function to get enclosing box AND mean confidence ---\n",
    "def get_enclosing_box_and_conf(cluster_entries):\n",
    "    \"\"\"\n",
    "    Calculates the enclosing bounding box and mean confidence for a cluster.\n",
    "    cluster_entries: list of (box_coords, confidence) tuples, where box_coords is [x1, y1, x2, y2].\n",
    "    Returns: [min_x1, min_y1, max_x2, max_y2, mean_conf]\n",
    "    \"\"\"\n",
    "    if not cluster_entries:\n",
    "        return None\n",
    "\n",
    "    x1s, y1s, x2s, y2s, confs = [], [], [], [], []\n",
    "    for box_coords, conf in cluster_entries:\n",
    "        x1, y1, x2, y2 = box_coords\n",
    "        x1s.append(x1)\n",
    "        y1s.append(y1)\n",
    "        x2s.append(x2)\n",
    "        y2s.append(y2)\n",
    "        if conf is not None: # Only append if confidence exists\n",
    "            confs.append(conf)\n",
    "\n",
    "    min_x1 = min(x1s)\n",
    "    min_y1 = min(y1s)\n",
    "    max_x2 = max(x2s)\n",
    "    max_y2 = max(y2s)\n",
    "\n",
    "    # Calculate mean confidence, default to 1.0 if no confs or empty\n",
    "    mean_conf = np.mean(confs) if confs else 1.0\n",
    "\n",
    "    return [min_x1, min_y1, max_x2, max_y2, mean_conf]\n",
    "\n",
    "def compute_custom_dist_matrix(boxes_coords_only):\n",
    "    \"\"\"\n",
    "    Computes a custom distance matrix between bounding boxes based on overlap.\n",
    "    boxes_coords_only: list of [x1, y1, x2, y2]\n",
    "    \"\"\"\n",
    "    n = len(boxes_coords_only)\n",
    "    dist_matrix = np.zeros((n, n))\n",
    "\n",
    "    for i in range(n):\n",
    "        x1_c, y1_c = get_centroid(boxes_coords_only[i])\n",
    "        w1 = boxes_coords_only[i][2] - boxes_coords_only[i][0]\n",
    "        h1 = boxes_coords_only[i][3] - boxes_coords_only[i][1]\n",
    "        for j in range(i + 1, n):\n",
    "            x2_c, y2_c = get_centroid(boxes_coords_only[j])\n",
    "            w2 = boxes_coords_only[j][2] - boxes_coords_only[j][0]\n",
    "            h2 = boxes_coords_only[j][3] - boxes_coords_only[j][1]\n",
    "\n",
    "            # This distance metric seems to be based on non-overlapping distance\n",
    "            # If dx or dy are negative, it means there's overlap in that dimension.\n",
    "            # max(0, dx, dy) ensures distance is 0 if boxes overlap or touch.\n",
    "            dx = abs(x1_c - x2_c) - (w1 + w2) / 2\n",
    "            dy = abs(y1_c - y2_c) - (h1 + h2) / 2\n",
    "            distance_x = max(0, dx)\n",
    "            distance_y = max(0, dy) # This is a custom distance, not IoU based\n",
    "            distance = (distance_x * distance_x + distance_y * distance_y) ** 0.5  # Euclidean distance\n",
    "\n",
    "            dist_matrix[i, j] = dist_matrix[j, i] = distance\n",
    "    return dist_matrix\n",
    "\n",
    "# --- Modified clustering function to handle confidence and be flexible for GT/Predictions ---\n",
    "def cluster_boxes_per_image(file_path, eps=1, min_samples=1, is_prediction=False):\n",
    "    \"\"\"\n",
    "    Clusters bounding boxes within a single image file based on a custom distance metric using DBSCAN.\n",
    "    Can process either ground truth labels (no confidence) or predictions (with confidence).\n",
    "\n",
    "    Args:\n",
    "        file_path (str): Path to the YOLO label/prediction file.\n",
    "        eps (float): The maximum distance between two samples for one to be considered as in the neighborhood of the other.\n",
    "        min_samples (int): The number of samples (or total weight) in a neighborhood for a point to be considered as a core point.\n",
    "        is_prediction (bool): If True, reads file as predictions (with confidence). Otherwise, as ground truth.\n",
    "\n",
    "    Returns:\n",
    "        dict: A dictionary where keys are class_ids and values are lists of\n",
    "              [x1, y1, x2, y2, mean_confidence] for each cluster.\n",
    "    \"\"\"\n",
    "    class_to_entries = {} # Stores (class_id, (box_coords, confidence))\n",
    "\n",
    "    if is_prediction:\n",
    "        entries = read_yolo_predictions(file_path)\n",
    "        for class_id, box_coords, conf in entries:\n",
    "            class_to_entries.setdefault(class_id, []).append((box_coords, conf))\n",
    "    else:\n",
    "        entries = read_yolo_labels(file_path)\n",
    "        for class_id, box_coords in entries:\n",
    "            class_to_entries.setdefault(class_id, []).append((box_coords, 1.0)) # Default confidence for GT\n",
    "\n",
    "    clusters_per_class = {}\n",
    "\n",
    "    for class_id, entries_for_class in class_to_entries.items():\n",
    "        if not entries_for_class: # Skip if no boxes for this class\n",
    "            continue\n",
    "        # Separate box coordinates for distance calculation\n",
    "        boxes_coords_only = [entry[0] for entry in entries_for_class]\n",
    "        \n",
    "        # Compute distance matrix only on coordinates\n",
    "        dist_matrix = compute_custom_dist_matrix(boxes_coords_only)\n",
    "        \n",
    "        # DBSCAN expects a 2D array, even for a single sample (though min_samples=1 handles this)\n",
    "        if len(boxes_coords_only) == 1:\n",
    "            # DBSCAN with precomputed metric needs a 1x1 matrix for a single point\n",
    "            # If min_sample is 1, a single point is a cluster.\n",
    "            labels = np.array([0]) # Assign to cluster 0\n",
    "        else:\n",
    "            db = DBSCAN(eps=eps, min_samples=min_samples, metric='precomputed')\n",
    "            labels = db.fit_predict(dist_matrix)\n",
    "\n",
    "        clusters_raw = {} # Stores raw entries (box_coords, conf) for each cluster label\n",
    "        for lbl, entry in zip(labels, entries_for_class):\n",
    "            if lbl == -1: # Noise points are ignored as per original code\n",
    "                continue\n",
    "            clusters_raw.setdefault(lbl, []).append(entry)\n",
    "\n",
    "        # Process raw clusters to get enclosing box and mean confidence\n",
    "        clusters_per_class[class_id] = [get_enclosing_box_and_conf(c) for c in clusters_raw.values()]\n",
    "\n",
    "    return clusters_per_class\n",
    "\n",
    "# --- Modified save_clusters function ---\n",
    "def save_clusters(src_dir, save_cluster_labels_dir, is_prediction_data=False):\n",
    "    \"\"\"\n",
    "    Processes files in src_dir, clusters bounding boxes, and saves the results.\n",
    "    For prediction data, it includes the mean confidence of the cluster.\n",
    "\n",
    "    Args:\n",
    "        src_dir (str): Directory containing the source YOLO label/prediction files.\n",
    "        save_cluster_labels_dir (str): Directory where clustered label files will be saved.\n",
    "        is_prediction_data (bool): Set to True if src_dir contains prediction files\n",
    "                                   (which have confidence scores).\n",
    "    \"\"\"\n",
    "    set_clusters = {}\n",
    "    print(f\"Processing files in {src_dir}...\")\n",
    "    for fname in sorted(os.listdir(src_dir)):\n",
    "        if not fname.endswith('.txt'):\n",
    "            continue\n",
    "        path = os.path.join(src_dir, fname)\n",
    "        # Pass the is_prediction flag to the clustering function\n",
    "        clusters = cluster_boxes_per_image(path, eps=50, min_samples=1, is_prediction=is_prediction_data)\n",
    "        set_clusters[fname] = clusters\n",
    "\n",
    "    # # Print results (optional, for debugging/overview)\n",
    "    # print(\"\\n--- Clustering Results Summary ---\")\n",
    "    # for fname, clusters in set_clusters.items():\n",
    "    #     print(f\"File: {fname}\")\n",
    "    #     if not clusters:\n",
    "    #         print(\"  No clusters found.\")\n",
    "    #         continue\n",
    "    #     for class_id, boxes_with_conf in clusters.items():\n",
    "    #         print(f\"  Class ID: {class_id}\")\n",
    "    #         for box in boxes_with_conf:\n",
    "    #             # box is [x1, y1, x2, y2, mean_conf]\n",
    "    #             print(f\"    Enclosing Box: [{box[0]:.2f}, {box[1]:.2f}, {box[2]:.2f}, {box[3]:.2f}], Mean Conf: {box[4]:.4f}\")\n",
    "    #     print()\n",
    "\n",
    "    save_dir = save_cluster_labels_dir\n",
    "    if not os.path.exists(save_dir):\n",
    "        os.makedirs(save_dir)\n",
    "    print(f\"Saving clustered results to {save_dir}...\")\n",
    "\n",
    "    # Save results with format of YOLO label files (class_id x_center y_center width height [confidence])\n",
    "    for fname, clusters in set_clusters.items():\n",
    "        output_path = os.path.join(save_dir, fname)\n",
    "        with open(output_path, 'w') as f:\n",
    "            # Optional: print if multiple classes for a file (as in your original code)\n",
    "            # This logic is a bit odd as it prints to console, not file, and only if >1 class\n",
    "            # if len(clusters) > 1:\n",
    "            #     print(f\"Multiple classes found in {fname}, writing to file.\")\n",
    "            #     for class_id, boxes in clusters.items():\n",
    "            #         print(f\"  Class ID: {class_id}, Enclosing Boxes: {len(boxes)}\")\n",
    "                        \n",
    "            for class_id, boxes_with_conf in clusters.items():\n",
    "                for box_data in boxes_with_conf:\n",
    "                    # box_data is [x1, y1, x2, y2, mean_conf]\n",
    "                    x1, y1, x2, y2, mean_conf = box_data\n",
    "                    \n",
    "                    x_center = (x1 + x2) / 2 / IMG_WIDTH\n",
    "                    y_center = (y1 + y2) / 2 / IMG_HEIGHT\n",
    "                    width = (x2 - x1) / IMG_WIDTH\n",
    "                    height = (y2 - y1) / IMG_HEIGHT\n",
    "                    \n",
    "                    # Write class_id x_center y_center width height confidence\n",
    "                    f.write(f\"{class_id} {x_center:.6f} {y_center:.6f} {width:.6f} {height:.6f} {mean_conf:.6f}\\n\")"
   ]
  },
  {
   "cell_type": "code",
   "execution_count": 42,
   "id": "49dc4575",
   "metadata": {},
   "outputs": [],
   "source": [
    "def yolo_to_xyxy(box, img_w, img_h):\n",
    "    cls, x_c, y_c, w, h = box[:5]\n",
    "    x1 = (x_c - w / 2) * img_w\n",
    "    y1 = (y_c - h / 2) * img_h\n",
    "    x2 = (x_c + w / 2) * img_w\n",
    "    y2 = (y_c + h / 2) * img_h\n",
    "    return [int(cls), x1, y1, x2, y2]\n",
    "\n",
    "def compute_iou(box1, box2):\n",
    "    x1 = max(box1[0], box2[0])\n",
    "    y1 = max(box1[1], box2[1])\n",
    "    x2 = min(box1[2], box2[2])\n",
    "    y2 = min(box1[3], box2[3])\n",
    "    inter = max(0, x2 - x1) * max(0, y2 - y1)\n",
    "    area1 = (box1[2]-box1[0]) * (box1[3]-box1[1])\n",
    "    area2 = (box2[2]-box2[0]) * (box2[3]-box2[1])\n",
    "    union = area1 + area2 - inter\n",
    "    return inter / union if union > 0 else 0\n",
    "\n",
    "def ap_per_class(tp, conf, pred_cls, target_cls):\n",
    "    indices = np.argsort(-conf)\n",
    "    tp, pred_cls = tp[indices], pred_cls[indices]\n",
    "    unique_classes = np.unique(np.concatenate((pred_cls, target_cls)))\n",
    "    ap = []\n",
    "\n",
    "    for c in unique_classes:\n",
    "        idx = pred_cls == c\n",
    "        n_gt = (target_cls == c).sum()\n",
    "        n_pred = idx.sum()\n",
    "\n",
    "        if n_gt == 0 or n_pred == 0:\n",
    "            ap.append(0)\n",
    "            continue\n",
    "\n",
    "        fpc = (1 - tp[idx]).cumsum()\n",
    "        tpc = tp[idx].cumsum()\n",
    "        recall = tpc / (n_gt + 1e-16)\n",
    "        precision = tpc / (tpc + fpc + 1e-16)\n",
    "\n",
    "        ap_c = np.trapezoid(precision, recall)\n",
    "        ap.append(ap_c)\n",
    "\n",
    "    return np.mean(ap)\n",
    "\n",
    "def load_labels(file_path, img_w, img_h):\n",
    "    boxes = []\n",
    "    with open(file_path, 'r') as f:\n",
    "        for line in f:\n",
    "            vals = list(map(float, line.strip().split()))\n",
    "            boxes.append(yolo_to_xyxy(vals, img_w, img_h))\n",
    "    return boxes\n",
    "\n",
    "def load_predictions(file_path, img_w, img_h):\n",
    "    boxes = []\n",
    "    with open(file_path, 'r') as f:\n",
    "        for line in f:\n",
    "            vals = list(map(float, line.strip().split()))\n",
    "            cls, x1, y1, x2, y2 = yolo_to_xyxy(vals[:5], img_w, img_h)\n",
    "            conf = vals[5]\n",
    "            boxes.append([cls, x1, y1, x2, y2, conf])\n",
    "    return boxes\n",
    "\n",
    "def compute_map_from_folders(img_dir, label_dir, pred_dir, iou_thr=0.5):\n",
    "    tp, confs, pred_cls, target_cls = [], [], [], []\n",
    "\n",
    "    for img_file in tqdm(os.listdir(img_dir)):\n",
    "        if not img_file.endswith('.jpg'):\n",
    "            continue\n",
    "\n",
    "        base = os.path.splitext(img_file)[0]\n",
    "        img_path = os.path.join(img_dir, img_file)\n",
    "        label_path = os.path.join(label_dir, base + '.txt')\n",
    "        pred_path = os.path.join(pred_dir, base + '.txt')\n",
    "\n",
    "        img = Image.open(img_path)\n",
    "        w, h = img.size\n",
    "\n",
    "        if not os.path.exists(label_path):\n",
    "            continue\n",
    "        gt = load_labels(label_path, w, h)\n",
    "        preds = load_predictions(pred_path, w, h) if os.path.exists(pred_path) else []\n",
    "\n",
    "        matched = []\n",
    "        for pred in preds:\n",
    "            cls_p, x1p, y1p, x2p, y2p, conf = pred\n",
    "            best_iou = 0\n",
    "            best_idx = -1\n",
    "            for i, gt_box in enumerate(gt):\n",
    "                cls_g, x1g, y1g, x2g, y2g = gt_box\n",
    "                if cls_p != cls_g or i in matched:\n",
    "                    continue\n",
    "                iou = compute_iou([x1p, y1p, x2p, y2p], [x1g, y1g, x2g, y2g])\n",
    "                if iou > best_iou:\n",
    "                    best_iou = iou\n",
    "                    best_idx = i\n",
    "\n",
    "            if best_iou >= iou_thr:\n",
    "                tp.append(1)\n",
    "                matched.append(best_idx)\n",
    "            else:\n",
    "                tp.append(0)\n",
    "            confs.append(conf)\n",
    "            pred_cls.append(cls_p)\n",
    "\n",
    "        for gt_box in gt:\n",
    "            target_cls.append(gt_box[0])\n",
    "\n",
    "    map50 = ap_per_class(np.array(tp), np.array(confs), np.array(pred_cls), np.array(target_cls))\n",
    "    return map50"
   ]
  },
  {
   "cell_type": "code",
   "execution_count": null,
   "id": "f12de2be",
   "metadata": {},
   "outputs": [
    {
     "name": "stdout",
     "output_type": "stream",
     "text": [
      "Processing files in ../../datasets/roboflow/test/labels...\n",
      "Saving clustered results to ../../datasets/roboflow/test/labels_clusters...\n",
      "Predicting with model weights: ../../runs/stage2_yolo11m_k_fold_cv_augmented/yolo11m_fold_0/weights/best.pt\n",
      "Dataset name: roboflow\n",
      "Fold prediction directory: ../../runs/stage2_yolo11m_k_fold_cv_augmented/yolo11m_fold_0/predict\n",
      "Predictions already exist in ../../runs/stage2_yolo11m_k_fold_cv_augmented/yolo11m_fold_0/predict, skipping prediction.\n",
      "Processing files in ../../runs/stage2_yolo11m_k_fold_cv_augmented/yolo11m_fold_0/predict/labels...\n",
      "Saving clustered results to ../../runs/stage2_yolo11m_k_fold_cv_augmented/yolo11m_fold_0/predict/labels_clusters...\n"
     ]
    },
    {
     "name": "stderr",
     "output_type": "stream",
     "text": [
      "100%|██████████| 1099/1099 [00:00<00:00, 8266.60it/s]"
     ]
    },
    {
     "name": "stdout",
     "output_type": "stream",
     "text": [
      "mAP@0.5 for ../../runs/stage2_yolo11m_k_fold_cv_augmented/yolo11m_fold_0/predict: 0.8702\n",
      "Predicting with model weights: ../../runs/stage2_yolo11m_k_fold_cv_augmented/yolo11m_fold_1/weights/best.pt\n",
      "Dataset name: roboflow\n",
      "Fold prediction directory: ../../runs/stage2_yolo11m_k_fold_cv_augmented/yolo11m_fold_1/predict\n"
     ]
    },
    {
     "name": "stderr",
     "output_type": "stream",
     "text": [
      "\n"
     ]
    },
    {
     "name": "stdout",
     "output_type": "stream",
     "text": [
      "Predictions already exist in ../../runs/stage2_yolo11m_k_fold_cv_augmented/yolo11m_fold_1/predict, skipping prediction.\n",
      "Processing files in ../../runs/stage2_yolo11m_k_fold_cv_augmented/yolo11m_fold_1/predict/labels...\n",
      "Saving clustered results to ../../runs/stage2_yolo11m_k_fold_cv_augmented/yolo11m_fold_1/predict/labels_clusters...\n"
     ]
    },
    {
     "name": "stderr",
     "output_type": "stream",
     "text": [
      "100%|██████████| 1099/1099 [00:00<00:00, 8478.67it/s]"
     ]
    },
    {
     "name": "stdout",
     "output_type": "stream",
     "text": [
      "mAP@0.5 for ../../runs/stage2_yolo11m_k_fold_cv_augmented/yolo11m_fold_1/predict: 0.8462\n",
      "Predicting with model weights: ../../runs/stage2_yolo11m_k_fold_cv_augmented/yolo11m_fold_2/weights/best.pt\n",
      "Dataset name: roboflow\n",
      "Fold prediction directory: ../../runs/stage2_yolo11m_k_fold_cv_augmented/yolo11m_fold_2/predict\n"
     ]
    },
    {
     "name": "stderr",
     "output_type": "stream",
     "text": [
      "\n"
     ]
    },
    {
     "name": "stdout",
     "output_type": "stream",
     "text": [
      "Predictions already exist in ../../runs/stage2_yolo11m_k_fold_cv_augmented/yolo11m_fold_2/predict, skipping prediction.\n",
      "Processing files in ../../runs/stage2_yolo11m_k_fold_cv_augmented/yolo11m_fold_2/predict/labels...\n",
      "Saving clustered results to ../../runs/stage2_yolo11m_k_fold_cv_augmented/yolo11m_fold_2/predict/labels_clusters...\n"
     ]
    },
    {
     "name": "stderr",
     "output_type": "stream",
     "text": [
      "100%|██████████| 1099/1099 [00:00<00:00, 8343.65it/s]"
     ]
    },
    {
     "name": "stdout",
     "output_type": "stream",
     "text": [
      "mAP@0.5 for ../../runs/stage2_yolo11m_k_fold_cv_augmented/yolo11m_fold_2/predict: 0.8598\n",
      "Model: stage2_yolo11m_k_fold_cv_augmented, mAP@0.5: 0.8587 ± 0.0098\n",
      "Predicting with model weights: ../../runs/stage3_yolo11l_fold0_subsampled/yolo11l_fold_0/weights/best.pt\n",
      "Dataset name: roboflow\n",
      "Fold prediction directory: ../../runs/stage3_yolo11l_fold0_subsampled/yolo11l_fold_0/predict\n"
     ]
    },
    {
     "name": "stderr",
     "output_type": "stream",
     "text": [
      "\n"
     ]
    },
    {
     "name": "stdout",
     "output_type": "stream",
     "text": [
      "Predictions already exist in ../../runs/stage3_yolo11l_fold0_subsampled/yolo11l_fold_0/predict, skipping prediction.\n",
      "Processing files in ../../runs/stage3_yolo11l_fold0_subsampled/yolo11l_fold_0/predict/labels...\n",
      "Saving clustered results to ../../runs/stage3_yolo11l_fold0_subsampled/yolo11l_fold_0/predict/labels_clusters...\n"
     ]
    },
    {
     "name": "stderr",
     "output_type": "stream",
     "text": [
      "100%|██████████| 1099/1099 [00:00<00:00, 8409.05it/s]"
     ]
    },
    {
     "name": "stdout",
     "output_type": "stream",
     "text": [
      "mAP@0.5 for ../../runs/stage3_yolo11l_fold0_subsampled/yolo11l_fold_0/predict: 0.8562\n"
     ]
    },
    {
     "name": "stderr",
     "output_type": "stream",
     "text": [
      "\n"
     ]
    },
    {
     "name": "stdout",
     "output_type": "stream",
     "text": [
      "Model: stage3_yolo11l_fold0_subsampled, mAP@0.5: 0.8562 ± 0.0000\n",
      "Predicting with model weights: ../../runs/stage1_yolo11n_k_fold_cv/yolo11n_fold_3/weights/best.pt\n",
      "Dataset name: roboflow\n",
      "Fold prediction directory: ../../runs/stage1_yolo11n_k_fold_cv/yolo11n_fold_3/predict\n",
      "Predictions already exist in ../../runs/stage1_yolo11n_k_fold_cv/yolo11n_fold_3/predict, skipping prediction.\n",
      "Processing files in ../../runs/stage1_yolo11n_k_fold_cv/yolo11n_fold_3/predict/labels...\n",
      "Saving clustered results to ../../runs/stage1_yolo11n_k_fold_cv/yolo11n_fold_3/predict/labels_clusters...\n"
     ]
    },
    {
     "name": "stderr",
     "output_type": "stream",
     "text": [
      "100%|██████████| 1099/1099 [00:00<00:00, 8518.49it/s]"
     ]
    },
    {
     "name": "stdout",
     "output_type": "stream",
     "text": [
      "mAP@0.5 for ../../runs/stage1_yolo11n_k_fold_cv/yolo11n_fold_3/predict: 0.8512\n",
      "Predicting with model weights: ../../runs/stage1_yolo11n_k_fold_cv/yolo11n_fold_2/weights/best.pt\n",
      "Dataset name: roboflow\n",
      "Fold prediction directory: ../../runs/stage1_yolo11n_k_fold_cv/yolo11n_fold_2/predict\n"
     ]
    },
    {
     "name": "stderr",
     "output_type": "stream",
     "text": [
      "\n"
     ]
    },
    {
     "name": "stdout",
     "output_type": "stream",
     "text": [
      "Predictions already exist in ../../runs/stage1_yolo11n_k_fold_cv/yolo11n_fold_2/predict, skipping prediction.\n",
      "Processing files in ../../runs/stage1_yolo11n_k_fold_cv/yolo11n_fold_2/predict/labels...\n",
      "Saving clustered results to ../../runs/stage1_yolo11n_k_fold_cv/yolo11n_fold_2/predict/labels_clusters...\n"
     ]
    },
    {
     "name": "stderr",
     "output_type": "stream",
     "text": [
      "100%|██████████| 1099/1099 [00:00<00:00, 8467.64it/s]"
     ]
    },
    {
     "name": "stdout",
     "output_type": "stream",
     "text": [
      "mAP@0.5 for ../../runs/stage1_yolo11n_k_fold_cv/yolo11n_fold_2/predict: 0.8588\n",
      "Predicting with model weights: ../../runs/stage1_yolo11n_k_fold_cv/yolo11n_fold_1/weights/best.pt\n",
      "Dataset name: roboflow\n",
      "Fold prediction directory: ../../runs/stage1_yolo11n_k_fold_cv/yolo11n_fold_1/predict\n"
     ]
    },
    {
     "name": "stderr",
     "output_type": "stream",
     "text": [
      "\n"
     ]
    },
    {
     "name": "stdout",
     "output_type": "stream",
     "text": [
      "Predictions already exist in ../../runs/stage1_yolo11n_k_fold_cv/yolo11n_fold_1/predict, skipping prediction.\n",
      "Processing files in ../../runs/stage1_yolo11n_k_fold_cv/yolo11n_fold_1/predict/labels...\n",
      "Saving clustered results to ../../runs/stage1_yolo11n_k_fold_cv/yolo11n_fold_1/predict/labels_clusters...\n"
     ]
    },
    {
     "name": "stderr",
     "output_type": "stream",
     "text": [
      "100%|██████████| 1099/1099 [00:00<00:00, 8393.95it/s]"
     ]
    },
    {
     "name": "stdout",
     "output_type": "stream",
     "text": [
      "mAP@0.5 for ../../runs/stage1_yolo11n_k_fold_cv/yolo11n_fold_1/predict: 0.8314\n",
      "Predicting with model weights: ../../runs/stage1_yolo11n_k_fold_cv/yolo11n_fold_0/weights/best.pt\n",
      "Dataset name: roboflow\n",
      "Fold prediction directory: ../../runs/stage1_yolo11n_k_fold_cv/yolo11n_fold_0/predict\n"
     ]
    },
    {
     "name": "stderr",
     "output_type": "stream",
     "text": [
      "\n"
     ]
    },
    {
     "name": "stdout",
     "output_type": "stream",
     "text": [
      "Predictions already exist in ../../runs/stage1_yolo11n_k_fold_cv/yolo11n_fold_0/predict, skipping prediction.\n",
      "Processing files in ../../runs/stage1_yolo11n_k_fold_cv/yolo11n_fold_0/predict/labels...\n",
      "Saving clustered results to ../../runs/stage1_yolo11n_k_fold_cv/yolo11n_fold_0/predict/labels_clusters...\n"
     ]
    },
    {
     "name": "stderr",
     "output_type": "stream",
     "text": [
      "100%|██████████| 1099/1099 [00:00<00:00, 8323.19it/s]"
     ]
    },
    {
     "name": "stdout",
     "output_type": "stream",
     "text": [
      "mAP@0.5 for ../../runs/stage1_yolo11n_k_fold_cv/yolo11n_fold_0/predict: 0.8508\n",
      "Predicting with model weights: ../../runs/stage1_yolo11n_k_fold_cv/yolo11n_fold_4/weights/best.pt\n",
      "Dataset name: roboflow\n",
      "Fold prediction directory: ../../runs/stage1_yolo11n_k_fold_cv/yolo11n_fold_4/predict\n"
     ]
    },
    {
     "name": "stderr",
     "output_type": "stream",
     "text": [
      "\n"
     ]
    },
    {
     "name": "stdout",
     "output_type": "stream",
     "text": [
      "Predictions already exist in ../../runs/stage1_yolo11n_k_fold_cv/yolo11n_fold_4/predict, skipping prediction.\n",
      "Processing files in ../../runs/stage1_yolo11n_k_fold_cv/yolo11n_fold_4/predict/labels...\n",
      "Saving clustered results to ../../runs/stage1_yolo11n_k_fold_cv/yolo11n_fold_4/predict/labels_clusters...\n"
     ]
    },
    {
     "name": "stderr",
     "output_type": "stream",
     "text": [
      "100%|██████████| 1099/1099 [00:00<00:00, 8444.79it/s]"
     ]
    },
    {
     "name": "stdout",
     "output_type": "stream",
     "text": [
      "mAP@0.5 for ../../runs/stage1_yolo11n_k_fold_cv/yolo11n_fold_4/predict: 0.8616\n",
      "Model: stage1_yolo11n_k_fold_cv, mAP@0.5: 0.8508 ± 0.0106\n",
      "Predicting with model weights: ../../runs/stage2_yolo11n_k_fold_cv_augmented/yolo11n_fold_3/weights/best.pt\n",
      "Dataset name: roboflow\n",
      "Fold prediction directory: ../../runs/stage2_yolo11n_k_fold_cv_augmented/yolo11n_fold_3/predict\n"
     ]
    },
    {
     "name": "stderr",
     "output_type": "stream",
     "text": [
      "\n"
     ]
    },
    {
     "name": "stdout",
     "output_type": "stream",
     "text": [
      "Predictions already exist in ../../runs/stage2_yolo11n_k_fold_cv_augmented/yolo11n_fold_3/predict, skipping prediction.\n",
      "Processing files in ../../runs/stage2_yolo11n_k_fold_cv_augmented/yolo11n_fold_3/predict/labels...\n",
      "Saving clustered results to ../../runs/stage2_yolo11n_k_fold_cv_augmented/yolo11n_fold_3/predict/labels_clusters...\n"
     ]
    },
    {
     "name": "stderr",
     "output_type": "stream",
     "text": [
      "100%|██████████| 1099/1099 [00:00<00:00, 8401.45it/s]"
     ]
    },
    {
     "name": "stdout",
     "output_type": "stream",
     "text": [
      "mAP@0.5 for ../../runs/stage2_yolo11n_k_fold_cv_augmented/yolo11n_fold_3/predict: 0.8596\n",
      "Predicting with model weights: ../../runs/stage2_yolo11n_k_fold_cv_augmented/yolo11n_fold_2/weights/best.pt\n",
      "Dataset name: roboflow\n",
      "Fold prediction directory: ../../runs/stage2_yolo11n_k_fold_cv_augmented/yolo11n_fold_2/predict\n"
     ]
    },
    {
     "name": "stderr",
     "output_type": "stream",
     "text": [
      "\n"
     ]
    },
    {
     "name": "stdout",
     "output_type": "stream",
     "text": [
      "Predictions already exist in ../../runs/stage2_yolo11n_k_fold_cv_augmented/yolo11n_fold_2/predict, skipping prediction.\n",
      "Processing files in ../../runs/stage2_yolo11n_k_fold_cv_augmented/yolo11n_fold_2/predict/labels...\n",
      "Saving clustered results to ../../runs/stage2_yolo11n_k_fold_cv_augmented/yolo11n_fold_2/predict/labels_clusters...\n"
     ]
    },
    {
     "name": "stderr",
     "output_type": "stream",
     "text": [
      "100%|██████████| 1099/1099 [00:00<00:00, 8496.97it/s]"
     ]
    },
    {
     "name": "stdout",
     "output_type": "stream",
     "text": [
      "mAP@0.5 for ../../runs/stage2_yolo11n_k_fold_cv_augmented/yolo11n_fold_2/predict: 0.8624\n",
      "Predicting with model weights: ../../runs/stage2_yolo11n_k_fold_cv_augmented/yolo11n_fold_1/weights/best.pt\n",
      "Dataset name: roboflow\n",
      "Fold prediction directory: ../../runs/stage2_yolo11n_k_fold_cv_augmented/yolo11n_fold_1/predict\n"
     ]
    },
    {
     "name": "stderr",
     "output_type": "stream",
     "text": [
      "\n"
     ]
    },
    {
     "name": "stdout",
     "output_type": "stream",
     "text": [
      "Predictions already exist in ../../runs/stage2_yolo11n_k_fold_cv_augmented/yolo11n_fold_1/predict, skipping prediction.\n",
      "Processing files in ../../runs/stage2_yolo11n_k_fold_cv_augmented/yolo11n_fold_1/predict/labels...\n",
      "Saving clustered results to ../../runs/stage2_yolo11n_k_fold_cv_augmented/yolo11n_fold_1/predict/labels_clusters...\n"
     ]
    },
    {
     "name": "stderr",
     "output_type": "stream",
     "text": [
      "100%|██████████| 1099/1099 [00:00<00:00, 8449.67it/s]"
     ]
    },
    {
     "name": "stdout",
     "output_type": "stream",
     "text": [
      "mAP@0.5 for ../../runs/stage2_yolo11n_k_fold_cv_augmented/yolo11n_fold_1/predict: 0.8480\n",
      "Predicting with model weights: ../../runs/stage2_yolo11n_k_fold_cv_augmented/yolo11n_fold_0/weights/best.pt\n",
      "Dataset name: roboflow\n",
      "Fold prediction directory: ../../runs/stage2_yolo11n_k_fold_cv_augmented/yolo11n_fold_0/predict\n"
     ]
    },
    {
     "name": "stderr",
     "output_type": "stream",
     "text": [
      "\n"
     ]
    },
    {
     "name": "stdout",
     "output_type": "stream",
     "text": [
      "Predictions already exist in ../../runs/stage2_yolo11n_k_fold_cv_augmented/yolo11n_fold_0/predict, skipping prediction.\n",
      "Processing files in ../../runs/stage2_yolo11n_k_fold_cv_augmented/yolo11n_fold_0/predict/labels...\n",
      "Saving clustered results to ../../runs/stage2_yolo11n_k_fold_cv_augmented/yolo11n_fold_0/predict/labels_clusters...\n"
     ]
    },
    {
     "name": "stderr",
     "output_type": "stream",
     "text": [
      "100%|██████████| 1099/1099 [00:00<00:00, 8432.16it/s]"
     ]
    },
    {
     "name": "stdout",
     "output_type": "stream",
     "text": [
      "mAP@0.5 for ../../runs/stage2_yolo11n_k_fold_cv_augmented/yolo11n_fold_0/predict: 0.8613\n",
      "Predicting with model weights: ../../runs/stage2_yolo11n_k_fold_cv_augmented/yolo11n_fold_4/weights/best.pt\n",
      "Dataset name: roboflow\n",
      "Fold prediction directory: ../../runs/stage2_yolo11n_k_fold_cv_augmented/yolo11n_fold_4/predict\n"
     ]
    },
    {
     "name": "stderr",
     "output_type": "stream",
     "text": [
      "\n"
     ]
    },
    {
     "name": "stdout",
     "output_type": "stream",
     "text": [
      "Predictions already exist in ../../runs/stage2_yolo11n_k_fold_cv_augmented/yolo11n_fold_4/predict, skipping prediction.\n",
      "Processing files in ../../runs/stage2_yolo11n_k_fold_cv_augmented/yolo11n_fold_4/predict/labels...\n",
      "Saving clustered results to ../../runs/stage2_yolo11n_k_fold_cv_augmented/yolo11n_fold_4/predict/labels_clusters...\n"
     ]
    },
    {
     "name": "stderr",
     "output_type": "stream",
     "text": [
      "100%|██████████| 1099/1099 [00:00<00:00, 8416.85it/s]"
     ]
    },
    {
     "name": "stdout",
     "output_type": "stream",
     "text": [
      "mAP@0.5 for ../../runs/stage2_yolo11n_k_fold_cv_augmented/yolo11n_fold_4/predict: 0.8609\n",
      "Model: stage2_yolo11n_k_fold_cv_augmented, mAP@0.5: 0.8584 ± 0.0053\n",
      "Predicting with model weights: ../../runs/stage4_rtdetr-l_fold0_augmented/rtdetr-l_fold_0/weights/best.pt\n",
      "Dataset name: roboflow\n",
      "Fold prediction directory: ../../runs/stage4_rtdetr-l_fold0_augmented/rtdetr-l_fold_0/predict\n"
     ]
    },
    {
     "name": "stderr",
     "output_type": "stream",
     "text": [
      "\n"
     ]
    },
    {
     "name": "stdout",
     "output_type": "stream",
     "text": [
      "Predictions already exist in ../../runs/stage4_rtdetr-l_fold0_augmented/rtdetr-l_fold_0/predict, skipping prediction.\n",
      "Processing files in ../../runs/stage4_rtdetr-l_fold0_augmented/rtdetr-l_fold_0/predict/labels...\n",
      "Saving clustered results to ../../runs/stage4_rtdetr-l_fold0_augmented/rtdetr-l_fold_0/predict/labels_clusters...\n"
     ]
    },
    {
     "name": "stderr",
     "output_type": "stream",
     "text": [
      "100%|██████████| 1099/1099 [00:00<00:00, 8358.07it/s]"
     ]
    },
    {
     "name": "stdout",
     "output_type": "stream",
     "text": [
      "mAP@0.5 for ../../runs/stage4_rtdetr-l_fold0_augmented/rtdetr-l_fold_0/predict: 0.8268\n",
      "Model: stage4_rtdetr-l_fold0_augmented, mAP@0.5: 0.8268 ± 0.0000\n",
      "Predicting with model weights: ../../runs/stage4_rtdetr-x_fold0_augmented/rtdetr-x_fold_0/weights/best.pt\n",
      "Dataset name: roboflow\n",
      "Fold prediction directory: ../../runs/stage4_rtdetr-x_fold0_augmented/rtdetr-x_fold_0/predict\n"
     ]
    },
    {
     "name": "stderr",
     "output_type": "stream",
     "text": [
      "\n"
     ]
    },
    {
     "name": "stdout",
     "output_type": "stream",
     "text": [
      "Predictions already exist in ../../runs/stage4_rtdetr-x_fold0_augmented/rtdetr-x_fold_0/predict, skipping prediction.\n",
      "Processing files in ../../runs/stage4_rtdetr-x_fold0_augmented/rtdetr-x_fold_0/predict/labels...\n",
      "Saving clustered results to ../../runs/stage4_rtdetr-x_fold0_augmented/rtdetr-x_fold_0/predict/labels_clusters...\n"
     ]
    },
    {
     "name": "stderr",
     "output_type": "stream",
     "text": [
      "100%|██████████| 1099/1099 [00:00<00:00, 8423.77it/s]"
     ]
    },
    {
     "name": "stdout",
     "output_type": "stream",
     "text": [
      "mAP@0.5 for ../../runs/stage4_rtdetr-x_fold0_augmented/rtdetr-x_fold_0/predict: 0.8151\n"
     ]
    },
    {
     "name": "stderr",
     "output_type": "stream",
     "text": [
      "\n"
     ]
    },
    {
     "name": "stdout",
     "output_type": "stream",
     "text": [
      "Model: stage4_rtdetr-x_fold0_augmented, mAP@0.5: 0.8151 ± 0.0000\n",
      "Predicting with model weights: ../../runs/stage2_yolo11s_k_fold_cv_augmented/yolo11s_fold_4/weights/best.pt\n",
      "Dataset name: roboflow\n",
      "Fold prediction directory: ../../runs/stage2_yolo11s_k_fold_cv_augmented/yolo11s_fold_4/predict\n",
      "Predictions already exist in ../../runs/stage2_yolo11s_k_fold_cv_augmented/yolo11s_fold_4/predict, skipping prediction.\n",
      "Processing files in ../../runs/stage2_yolo11s_k_fold_cv_augmented/yolo11s_fold_4/predict/labels...\n",
      "Saving clustered results to ../../runs/stage2_yolo11s_k_fold_cv_augmented/yolo11s_fold_4/predict/labels_clusters...\n"
     ]
    },
    {
     "name": "stderr",
     "output_type": "stream",
     "text": [
      "100%|██████████| 1099/1099 [00:00<00:00, 8382.20it/s]"
     ]
    },
    {
     "name": "stdout",
     "output_type": "stream",
     "text": [
      "mAP@0.5 for ../../runs/stage2_yolo11s_k_fold_cv_augmented/yolo11s_fold_4/predict: 0.8519\n",
      "Predicting with model weights: ../../runs/stage2_yolo11s_k_fold_cv_augmented/yolo11s_fold_3/weights/best.pt\n",
      "Dataset name: roboflow\n",
      "Fold prediction directory: ../../runs/stage2_yolo11s_k_fold_cv_augmented/yolo11s_fold_3/predict\n"
     ]
    },
    {
     "name": "stderr",
     "output_type": "stream",
     "text": [
      "\n"
     ]
    },
    {
     "name": "stdout",
     "output_type": "stream",
     "text": [
      "Predictions already exist in ../../runs/stage2_yolo11s_k_fold_cv_augmented/yolo11s_fold_3/predict, skipping prediction.\n",
      "Processing files in ../../runs/stage2_yolo11s_k_fold_cv_augmented/yolo11s_fold_3/predict/labels...\n",
      "Saving clustered results to ../../runs/stage2_yolo11s_k_fold_cv_augmented/yolo11s_fold_3/predict/labels_clusters...\n"
     ]
    },
    {
     "name": "stderr",
     "output_type": "stream",
     "text": [
      "100%|██████████| 1099/1099 [00:00<00:00, 8458.88it/s]"
     ]
    },
    {
     "name": "stdout",
     "output_type": "stream",
     "text": [
      "mAP@0.5 for ../../runs/stage2_yolo11s_k_fold_cv_augmented/yolo11s_fold_3/predict: 0.8548\n",
      "Predicting with model weights: ../../runs/stage2_yolo11s_k_fold_cv_augmented/yolo11s_fold_2/weights/best.pt\n",
      "Dataset name: roboflow\n",
      "Fold prediction directory: ../../runs/stage2_yolo11s_k_fold_cv_augmented/yolo11s_fold_2/predict\n"
     ]
    },
    {
     "name": "stderr",
     "output_type": "stream",
     "text": [
      "\n"
     ]
    },
    {
     "name": "stdout",
     "output_type": "stream",
     "text": [
      "Predictions already exist in ../../runs/stage2_yolo11s_k_fold_cv_augmented/yolo11s_fold_2/predict, skipping prediction.\n",
      "Processing files in ../../runs/stage2_yolo11s_k_fold_cv_augmented/yolo11s_fold_2/predict/labels...\n",
      "Saving clustered results to ../../runs/stage2_yolo11s_k_fold_cv_augmented/yolo11s_fold_2/predict/labels_clusters...\n"
     ]
    },
    {
     "name": "stderr",
     "output_type": "stream",
     "text": [
      "100%|██████████| 1099/1099 [00:00<00:00, 8495.53it/s]"
     ]
    },
    {
     "name": "stdout",
     "output_type": "stream",
     "text": [
      "mAP@0.5 for ../../runs/stage2_yolo11s_k_fold_cv_augmented/yolo11s_fold_2/predict: 0.8570\n",
      "Predicting with model weights: ../../runs/stage2_yolo11s_k_fold_cv_augmented/yolo11s_fold_1/weights/best.pt\n",
      "Dataset name: roboflow\n",
      "Fold prediction directory: ../../runs/stage2_yolo11s_k_fold_cv_augmented/yolo11s_fold_1/predict\n"
     ]
    },
    {
     "name": "stderr",
     "output_type": "stream",
     "text": [
      "\n"
     ]
    },
    {
     "name": "stdout",
     "output_type": "stream",
     "text": [
      "Predictions already exist in ../../runs/stage2_yolo11s_k_fold_cv_augmented/yolo11s_fold_1/predict, skipping prediction.\n",
      "Processing files in ../../runs/stage2_yolo11s_k_fold_cv_augmented/yolo11s_fold_1/predict/labels...\n",
      "Saving clustered results to ../../runs/stage2_yolo11s_k_fold_cv_augmented/yolo11s_fold_1/predict/labels_clusters...\n"
     ]
    },
    {
     "name": "stderr",
     "output_type": "stream",
     "text": [
      "100%|██████████| 1099/1099 [00:00<00:00, 8473.75it/s]"
     ]
    },
    {
     "name": "stdout",
     "output_type": "stream",
     "text": [
      "mAP@0.5 for ../../runs/stage2_yolo11s_k_fold_cv_augmented/yolo11s_fold_1/predict: 0.8464\n",
      "Predicting with model weights: ../../runs/stage2_yolo11s_k_fold_cv_augmented/yolo11s_fold_0/weights/best.pt\n",
      "Dataset name: roboflow\n",
      "Fold prediction directory: ../../runs/stage2_yolo11s_k_fold_cv_augmented/yolo11s_fold_0/predict\n"
     ]
    },
    {
     "name": "stderr",
     "output_type": "stream",
     "text": [
      "\n"
     ]
    },
    {
     "name": "stdout",
     "output_type": "stream",
     "text": [
      "Predictions already exist in ../../runs/stage2_yolo11s_k_fold_cv_augmented/yolo11s_fold_0/predict, skipping prediction.\n",
      "Processing files in ../../runs/stage2_yolo11s_k_fold_cv_augmented/yolo11s_fold_0/predict/labels...\n",
      "Saving clustered results to ../../runs/stage2_yolo11s_k_fold_cv_augmented/yolo11s_fold_0/predict/labels_clusters...\n"
     ]
    },
    {
     "name": "stderr",
     "output_type": "stream",
     "text": [
      "100%|██████████| 1099/1099 [00:00<00:00, 8321.33it/s]"
     ]
    },
    {
     "name": "stdout",
     "output_type": "stream",
     "text": [
      "mAP@0.5 for ../../runs/stage2_yolo11s_k_fold_cv_augmented/yolo11s_fold_0/predict: 0.8591\n",
      "Model: stage2_yolo11s_k_fold_cv_augmented, mAP@0.5: 0.8538 ± 0.0044\n",
      "Predicting with model weights: ../../runs/stage3_yolo11x_fold0_subsampled/yolo11x_fold_0/weights/best.pt\n",
      "Dataset name: roboflow\n",
      "Fold prediction directory: ../../runs/stage3_yolo11x_fold0_subsampled/yolo11x_fold_0/predict\n"
     ]
    },
    {
     "name": "stderr",
     "output_type": "stream",
     "text": [
      "\n"
     ]
    },
    {
     "name": "stdout",
     "output_type": "stream",
     "text": [
      "Predictions already exist in ../../runs/stage3_yolo11x_fold0_subsampled/yolo11x_fold_0/predict, skipping prediction.\n",
      "Processing files in ../../runs/stage3_yolo11x_fold0_subsampled/yolo11x_fold_0/predict/labels...\n",
      "Saving clustered results to ../../runs/stage3_yolo11x_fold0_subsampled/yolo11x_fold_0/predict/labels_clusters...\n"
     ]
    },
    {
     "name": "stderr",
     "output_type": "stream",
     "text": [
      "100%|██████████| 1099/1099 [00:00<00:00, 8466.93it/s]"
     ]
    },
    {
     "name": "stdout",
     "output_type": "stream",
     "text": [
      "mAP@0.5 for ../../runs/stage3_yolo11x_fold0_subsampled/yolo11x_fold_0/predict: 0.8550\n",
      "Model: stage3_yolo11x_fold0_subsampled, mAP@0.5: 0.8550 ± 0.0000\n",
      "\n",
      "--- Summary of mAP@0.5 for all models ---\n",
      "Model: stage2_yolo11m_k_fold_cv_augmented\n",
      "  mean: 0.8587\n",
      "  std: 0.0098\n",
      "Model: stage3_yolo11l_fold0_subsampled\n",
      "  mean: 0.8562\n",
      "  std: 0.0000\n",
      "Model: stage1_yolo11n_k_fold_cv\n",
      "  mean: 0.8508\n",
      "  std: 0.0106\n",
      "Model: stage2_yolo11n_k_fold_cv_augmented\n",
      "  mean: 0.8584\n",
      "  std: 0.0053\n",
      "Model: stage4_rtdetr-l_fold0_augmented\n",
      "  mean: 0.8268\n",
      "  std: 0.0000\n",
      "Model: stage4_rtdetr-x_fold0_augmented\n",
      "  mean: 0.8151\n",
      "  std: 0.0000\n",
      "Model: stage2_yolo11s_k_fold_cv_augmented\n",
      "  mean: 0.8538\n",
      "  std: 0.0044\n",
      "Model: stage3_yolo11x_fold0_subsampled\n",
      "  mean: 0.8550\n",
      "  std: 0.0000\n"
     ]
    },
    {
     "name": "stderr",
     "output_type": "stream",
     "text": [
      "\n"
     ]
    }
   ],
   "source": [
    "def predict_cluster_and_compute_map(model_weights_path, dataset_name, fold_pred_dir):\n",
    "    \"\"\"\n",
    "    Predicts using the model weights and computes mAP@0.5 for the specified dataset.\n",
    "    \"\"\"\n",
    "    # Print all arguments\n",
    "    print(f\"Predicting with model weights: {model_weights_path}\")\n",
    "    print(f\"Dataset name: {dataset_name}\")\n",
    "    print(f\"Fold prediction directory: {fold_pred_dir}\")\n",
    "    model = YOLO(model_weights_path) if \"yolo\" in model_weights_path else RTDETR(model_weights_path)\n",
    "\n",
    "    # mantain old predictions if they exist and are the same len of images\n",
    "    if os.path.exists(os.path.join(fold_pred_dir, \"labels_clusters\")):\n",
    "        #subprocess.run([\"rm\", \"-rf\", fold_pred_dir], check=True)\n",
    "        #print(f\"Removed old predictions in {fold_pred_dir}\")\n",
    "        # print that already exists: skip the prediction\n",
    "        print(f\"Predictions already exist in {fold_pred_dir}, skipping prediction.\")\n",
    "    else:\n",
    "        # remove old predictions\n",
    "        subprocess.run([\"rm\", \"-rf\", fold_pred_dir], check=True)\n",
    "        print(f\"Removed old predictions in {fold_pred_dir}\")\n",
    "\n",
    "        print(f\"Saving predictions to {fold_pred_dir}...\")\n",
    "        # Predict\n",
    "        model.predict(\n",
    "            source=os.path.join(DATASET_DIR, dataset_name, \"test\", \"images\"),\n",
    "            save=True,\n",
    "            save_txt=True,\n",
    "            save_conf=True,\n",
    "            # project is the parent directory of fold_pred_dir\n",
    "            project= os.path.dirname(fold_pred_dir),\n",
    "            name= os.path.basename(fold_pred_dir),\n",
    "            conf=0.25,  # Confidence threshold\n",
    "            iou=0.45,   # IoU threshold\n",
    "            device=\"cuda\" if os.path.exists(\"/dev/nvidia0\") else \"cpu\",\n",
    "        )\n",
    "\n",
    "    # Save clusters for the predicted labels\n",
    "    save_clusters(\n",
    "        os.path.join(fold_pred_dir, \"labels\"),\n",
    "        os.path.join(fold_pred_dir, \"labels_clusters\"),\n",
    "        is_prediction_data=True\n",
    "    )\n",
    "    \n",
    "    # Compute mAP@0.5\n",
    "    map50 = compute_map_from_folders(\n",
    "        os.path.join(DATASET_DIR, dataset_name, \"test\", \"images\"),\n",
    "        os.path.join(DATASET_DIR, dataset_name, \"test\", \"labels_clusters\"),\n",
    "        os.path.join(fold_pred_dir, \"labels_clusters\"),\n",
    "        iou_thr=0.5\n",
    "    )\n",
    "\n",
    "    print(f\"mAP@0.5 for {fold_pred_dir}: {map50:.4f}\")\n",
    "    \n",
    "    return map50\n",
    "\n",
    "\n",
    "def compute_map50_of_model(model_dir, dataset_name):\n",
    "    # compute mAP@50 for each fold\n",
    "    model_name = os.path.basename(model_dir)\n",
    "    folds_dirs = [d for d in os.listdir(model_dir) if \"fold\" in d and os.path.isdir(os.path.join(model_dir, d))]\n",
    "    map50s_folds = []\n",
    "    for fold_dir in folds_dirs:\n",
    "        fold_path = os.path.join(model_dir, fold_dir)\n",
    "        fold_pred_dir = os.path.join(fold_path, \"predict\")\n",
    "        map50 = predict_cluster_and_compute_map(\n",
    "            model_weights_path=os.path.join(fold_path, \"weights\", \"best.pt\"),\n",
    "            dataset_name=dataset_name,\n",
    "            fold_pred_dir=fold_pred_dir\n",
    "        )\n",
    "        map50s_folds.append(map50)\n",
    "\n",
    "    # Compute mean and std of mAP@50 across folds\n",
    "    if map50s_folds:\n",
    "        mean_map50 = np.mean(map50s_folds)\n",
    "        std_map50 = np.std(map50s_folds)\n",
    "        print(f\"Model: {model_name}, mAP@0.5: {mean_map50:.4f} ± {std_map50:.4f}\")\n",
    "\n",
    "    return {\n",
    "        \"mean\": mean_map50,\n",
    "        \"std\": std_map50,\n",
    "    }\n",
    "\n",
    "def compute_map50_of_all_models(runs_dir, dataset_name):\n",
    "    \"\"\"\n",
    "    Computes mAP@0.5 for all models in the specified runs directory for the given dataset.\n",
    "    \"\"\"\n",
    "    model_dirs = [d for d in os.listdir(runs_dir) if os.path.isdir(os.path.join(runs_dir, d))]\n",
    "    all_map50s = {}\n",
    "    \n",
    "    for model_dir in model_dirs:\n",
    "        model_path = os.path.join(runs_dir, model_dir)\n",
    "        map50s = compute_map50_of_model(model_path, dataset_name)\n",
    "        all_map50s[model_dir] = map50s\n",
    "    \n",
    "    return all_map50s\n",
    "\n",
    "def compute_and_print_map50(runs_dir, dataset_name):\n",
    "    \"\"\"\n",
    "    Computes and prints mAP@0.5 for all models in the specified runs directory for the given dataset.\n",
    "    \"\"\"\n",
    "    # generate clusters for the dataset labels\n",
    "    dataset_dir = os.path.join(DATASET_DIR, dataset_name)\n",
    "    save_clusters(\n",
    "        os.path.join(dataset_dir, \"test\", \"labels\"),\n",
    "        os.path.join(dataset_dir, \"test\", \"labels_clusters\"),\n",
    "        is_prediction_data=False\n",
    "    )\n",
    "\n",
    "    all_map50s = compute_map50_of_all_models(runs_dir, dataset_name)\n",
    "    \n",
    "    print(\"\\n--- Summary of mAP@0.5 for all models ---\")\n",
    "    for model, map50s in all_map50s.items():\n",
    "        print(f\"Model: {model}\")\n",
    "        for fold, map50 in map50s.items():\n",
    "            if isinstance(map50, dict):  # This is the mean/std entry\n",
    "                print(f\"  {fold}: {map50['mean']:.4f} ± {map50['std']:.4f}\")\n",
    "            else:\n",
    "                print(f\"  {fold}: {map50:.4f}\")\n",
    "\n",
    "    return all_map50s\n",
    "\n",
    "# Usage\n",
    "all_maps = compute_and_print_map50(\n",
    "    runs_dir=\"../../runs\",\n",
    "    dataset_name=\"roboflow\"\n",
    ")"
   ]
  },
  {
   "cell_type": "code",
   "execution_count": 50,
   "id": "867a9c07",
   "metadata": {},
   "outputs": [
    {
     "name": "stdout",
     "output_type": "stream",
     "text": [
      "mAP@50 values for all models:\n",
      "stage1_yolo11n: 0.851$\\pm$0.011\n",
      "stage2_yolo11n: 0.858$\\pm$0.005\n",
      "yolo11s: 0.854$\\pm$0.004\n",
      "yolo11m: 0.859$\\pm$0.010\n",
      "yolo11l: 0.856$\\pm$0.000\n",
      "yolo11x: 0.855$\\pm$0.000\n",
      "rtdetr-l: 0.827$\\pm$0.000\n",
      "rtdetr-x: 0.815$\\pm$0.000\n"
     ]
    }
   ],
   "source": [
    "# Print the values of mean and std for mAP@50, ordering in this way:\n",
    "# yolo{n,s,m,l,x}, rt-detr{l,x}\n",
    "# using 3 decimal places\n",
    "print(\"mAP@50 values for all models:\")\n",
    "\n",
    "order = [\n",
    "    \"stage1_yolo11n\",\n",
    "    \"stage2_yolo11n\",\n",
    "    \"yolo11s\",\n",
    "    \"yolo11m\",\n",
    "    \"yolo11l\",\n",
    "    \"yolo11x\",\n",
    "    \"rtdetr-l\",\n",
    "    \"rtdetr-x\",\n",
    "]\n",
    "\n",
    "for model in order:\n",
    "    # for all keys check if it contains the model name\n",
    "    for key, value in all_maps.items():\n",
    "        if model in key:\n",
    "            mean = value.get(\"mean\", 0)\n",
    "            std = value.get(\"std\", 0)\n",
    "            print(f\"{model}: {mean:.3f}$\\pm${std:.3f}\")\n",
    "            break\n",
    "    else:\n",
    "        print(f\"{model}: Not found in results\")"
   ]
  }
 ],
 "metadata": {
  "kernelspec": {
   "display_name": ".venv",
   "language": "python",
   "name": "python3"
  },
  "language_info": {
   "codemirror_mode": {
    "name": "ipython",
    "version": 3
   },
   "file_extension": ".py",
   "mimetype": "text/x-python",
   "name": "python",
   "nbconvert_exporter": "python",
   "pygments_lexer": "ipython3",
   "version": "3.11.0"
  }
 },
 "nbformat": 4,
 "nbformat_minor": 5
}
