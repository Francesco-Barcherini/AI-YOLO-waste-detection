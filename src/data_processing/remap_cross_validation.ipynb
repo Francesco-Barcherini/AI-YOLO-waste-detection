{
 "cells": [
  {
   "cell_type": "markdown",
   "id": "394514c8",
   "metadata": {},
   "source": [
    "remap labels of `../../datasets/cross_validation_splits`\n",
    "\n",
    "attenzione: no fa una copia ma modifica i file\n"
   ]
  },
  {
   "cell_type": "code",
   "execution_count": 1,
   "id": "0c339af4",
   "metadata": {},
   "outputs": [
    {
     "name": "stdout",
     "output_type": "stream",
     "text": [
      "Dataset root: /home/andrea/work/AI-waste-detection/datasets/cross_validation_splits\n"
     ]
    }
   ],
   "source": [
    "from pathlib import Path\n",
    "import yaml, shutil\n",
    "\n",
    "# ===== Parametri utente =====\n",
    "DATASET_ROOT = Path('../../datasets/cross_validation_splits')  # folder with fold_0/...\n",
    "# ============================\n",
    "\n",
    "assert DATASET_ROOT.exists(), f\"Cartella {DATASET_ROOT} non trovata\"\n",
    "print('Dataset root:', DATASET_ROOT.resolve())\n"
   ]
  },
  {
   "cell_type": "code",
   "execution_count": 2,
   "id": "6c792e6b",
   "metadata": {},
   "outputs": [],
   "source": [
    "# 7 classi finali\n",
    "classes = ['glass', 'medical', 'metal', 'organic', 'paper', 'plastic', 'sharp-object']\n",
    "\n",
    "# mappatura 42 -> 7\n",
    "dict_classes = {\n",
    "    'Aerosols': 2, 'Aluminum can': 2, 'Aluminum caps': 2, 'Cardboard': 4,\n",
    "    'Cellulose': 4, 'Ceramic': 5, 'Combined plastic': 5,\n",
    "    'Container for household chemicals': 1, 'Disposable tableware': 5,\n",
    "    'Electronics': 2, 'Foil': 2, 'Furniture': 3, 'Glass bottle': 0,\n",
    "    'Iron utensils': 2, 'Liquid': 5, 'Metal shavings': 2, 'Milk bottle': 4,\n",
    "    'Organic': 3, 'Paper': 4, 'Paper bag': 4, 'Paper cups': 4,\n",
    "    'Paper shavings': 4, 'Papier mache': 4, 'Plastic bag': 5,\n",
    "    'Plastic bottle': 5, 'Plastic can': 5, 'Plastic canister': 5,\n",
    "    'Plastic caps': 5, 'Plastic cup': 5, 'Plastic shaker': 5,\n",
    "    'Plastic shavings': 5, 'Plastic toys': 5, 'Postal packaging': 5,\n",
    "    'Printing industry': 4, 'Scrap metal': 2, 'Stretch film': 5,\n",
    "    'Tetra pack': 4, 'Textile': 3, 'Tin': 2, 'Unknown plastic': 5,\n",
    "    'Wood': 3, 'Zip plastic bag': 5,\n",
    "}\n",
    "orig_names = list(dict_classes.keys())\n",
    "id_old_to_new = {i: dict_classes[name] for i, name in enumerate(orig_names)}\n"
   ]
  },
  {
   "cell_type": "code",
   "execution_count": 3,
   "id": "72e8a677",
   "metadata": {},
   "outputs": [],
   "source": [
    "def remap_file(path: Path):\n",
    "    \"\"\"Sovrascrive un file YOLO cambiando l'ID di classe.\"\"\"\n",
    "    new_lines=[]\n",
    "    with path.open() as f:\n",
    "        for line in f:\n",
    "            parts=line.strip().split()\n",
    "            if len(parts)<5: continue\n",
    "            old_id=int(parts[0])\n",
    "            new_id=id_old_to_new.get(old_id)\n",
    "            if new_id is None:\n",
    "                print('Classe non mappata:', old_id, 'in', path)\n",
    "                continue\n",
    "            parts[0]=str(new_id)\n",
    "            new_lines.append(' '.join(parts))\n",
    "    path.write_text('\\n'.join(new_lines)+'\\n')\n"
   ]
  },
  {
   "cell_type": "code",
   "execution_count": 4,
   "id": "27766be3",
   "metadata": {},
   "outputs": [
    {
     "name": "stdout",
     "output_type": "stream",
     "text": [
      "\n",
      "📂 fold_0\n",
      "  🔄 train : 9828 file convertiti\n",
      "  🔄 val : 3276 file convertiti\n",
      "  ✅ data.yaml aggiornato\n",
      "\n",
      "📂 fold_1\n",
      "  🔄 train : 9828 file convertiti\n",
      "  🔄 val : 3276 file convertiti\n",
      "  ✅ data.yaml aggiornato\n",
      "\n",
      "📂 fold_2\n",
      "  🔄 train : 9828 file convertiti\n",
      "  🔄 val : 3276 file convertiti\n",
      "  ✅ data.yaml aggiornato\n",
      "\n",
      "📂 fold_3\n",
      "  🔄 train : 9828 file convertiti\n",
      "  🔄 val : 3276 file convertiti\n",
      "  ✅ data.yaml aggiornato\n",
      "\n",
      "🎉 Conversione terminata. File totali modificati: 52416\n"
     ]
    }
   ],
   "source": [
    "total=0\n",
    "for fold in sorted(DATASET_ROOT.glob('fold_*')):\n",
    "    print('\\n📂', fold.name)\n",
    "    for split in ['train','val']:\n",
    "        lbl_dir=fold/split/'labels'\n",
    "        if not lbl_dir.exists():\n",
    "            print('  ⏩ Nessun', lbl_dir)\n",
    "            continue\n",
    "        for txt in lbl_dir.glob('*.txt'):\n",
    "            remap_file(txt)\n",
    "            total+=1\n",
    "        print('  🔄', split, ':', len(list(lbl_dir.glob('*.txt'))),'file convertiti')\n",
    "    # aggiorna data.yaml\n",
    "    data_yaml=fold/'data.yaml'\n",
    "    data_yaml.write_text(yaml.dump({\n",
    "        'path': str(fold.relative_to(DATASET_ROOT.parent.parent)), # ../../datasets/...\n",
    "        'train':'train/images',\n",
    "        'val':'val/images',\n",
    "        'nc':len(classes),\n",
    "        'names':{i:n for i,n in enumerate(classes)},\n",
    "    }, sort_keys=False))\n",
    "    print('  ✅ data.yaml aggiornato')\n",
    "print(f'\\n🎉 Conversione terminata. File totali modificati: {total}')\n"
   ]
  }
 ],
 "metadata": {
  "kernelspec": {
   "display_name": ".venv",
   "language": "python",
   "name": "python3"
  },
  "language_info": {
   "codemirror_mode": {
    "name": "ipython",
    "version": 3
   },
   "file_extension": ".py",
   "mimetype": "text/x-python",
   "name": "python",
   "nbconvert_exporter": "python",
   "pygments_lexer": "ipython3",
   "version": "3.11.0rc1"
  }
 },
 "nbformat": 4,
 "nbformat_minor": 5
}
