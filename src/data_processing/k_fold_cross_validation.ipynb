{
 "cells": [
  {
   "cell_type": "markdown",
   "id": "494a69fa",
   "metadata": {},
   "source": [
    "use this script to generate a K-fold cross validation on `roboflow_merged`"
   ]
  },
  {
   "cell_type": "code",
   "execution_count": null,
   "id": "5e915e8e",
   "metadata": {},
   "outputs": [
    {
     "name": "stdout",
     "output_type": "stream",
     "text": [
      "K-Fold cross-validation splits created at ../../datasets/k_fold_splits\n"
     ]
    }
   ],
   "source": [
    "# take `../../datasets/roboflow_merged` with `images` and `labels` in yolo11 format and perform a parametric k fold cross validation\n",
    "\n",
    "# Import necessary libraries\n",
    "import os\n",
    "import shutil\n",
    "from sklearn.model_selection import KFold\n",
    "import glob\n",
    "import random\n",
    " \n",
    "# Define paths\n",
    "dataset_path = \"../../datasets/roboflow_merged\"\n",
    "images_path = os.path.join(dataset_path, \"images\")\n",
    "labels_path = os.path.join(dataset_path, \"labels\")\n",
    "output_path = \"../../datasets/cross_validation_splits\"\n",
    "os.makedirs(output_path, exist_ok=True)\n",
    " \n",
    "# Parameters\n",
    "k = 4  # Number of folds\n",
    "random_seed = 21\n",
    " \n",
    "# Get all image files\n",
    "image_files = glob.glob(os.path.join(images_path, \"*.jpg\"))\n",
    "random.seed(random_seed)\n",
    "random.shuffle(image_files)\n",
    " \n",
    "# Perform K-Fold split\n",
    "kf = KFold(n_splits=k, shuffle=True, random_state=random_seed)\n",
    "for fold, (train_idx, val_idx) in enumerate(kf.split(image_files)):\n",
    "    fold_path = os.path.join(output_path, f\"fold_{fold}\")\n",
    "    train_images_path = os.path.join(fold_path, \"train\", \"images\")\n",
    "    train_labels_path = os.path.join(fold_path, \"train\", \"labels\")\n",
    "    val_images_path = os.path.join(fold_path, \"val\", \"images\")\n",
    "    val_labels_path = os.path.join(fold_path, \"val\", \"labels\")\n",
    "    os.makedirs(train_images_path, exist_ok=True)\n",
    "    os.makedirs(train_labels_path, exist_ok=True)\n",
    "    os.makedirs(val_images_path, exist_ok=True)\n",
    "    os.makedirs(val_labels_path, exist_ok=True)\n",
    "    \n",
    "    # Copy training files\n",
    "    for idx in train_idx:\n",
    "        image_file = image_files[idx]\n",
    "        label_file = os.path.join(labels_path, os.path.basename(image_file).replace(\".jpg\", \".txt\"))\n",
    "        shutil.copy(image_file, train_images_path)\n",
    "        shutil.copy(label_file, train_labels_path)\n",
    "    \n",
    "    # Copy validation files\n",
    "    for idx in val_idx:\n",
    "        image_file = image_files[idx]\n",
    "        label_file = os.path.join(labels_path, os.path.basename(image_file).replace(\".jpg\", \".txt\"))\n",
    "        shutil.copy(image_file, val_images_path)\n",
    "        shutil.copy(label_file, val_labels_path)\n",
    " \n",
    "print(f\"K-Fold cross-validation splits created at {output_path}\")\n"
   ]
  }
 ],
 "metadata": {
  "kernelspec": {
   "display_name": ".venv",
   "language": "python",
   "name": "python3"
  },
  "language_info": {
   "codemirror_mode": {
    "name": "ipython",
    "version": 3
   },
   "file_extension": ".py",
   "mimetype": "text/x-python",
   "name": "python",
   "nbconvert_exporter": "python",
   "pygments_lexer": "ipython3",
   "version": "3.11.0rc1"
  }
 },
 "nbformat": 4,
 "nbformat_minor": 5
}
