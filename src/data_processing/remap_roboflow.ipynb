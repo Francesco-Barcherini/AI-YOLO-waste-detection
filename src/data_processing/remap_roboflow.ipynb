{
 "cells": [
  {
   "cell_type": "code",
   "execution_count": 1,
   "id": "89631ad7",
   "metadata": {},
   "outputs": [],
   "source": [
    "from pathlib import Path\n",
    "import shutil, yaml\n",
    "\n",
    "# Percorso del dataset (radice che contiene train/, valid/, test/)\n",
    "DATASET_DIR = Path(\"../../datasets/roboflow_2\")\n",
    "# Se vuoi salvare le etichette rimappate altrove, imposta NEW_LABEL_DIR\n",
    "NEW_LABEL_DIR = None  # es. Path(\"../../datasets/roboflow_2_remapped\")\n",
    "\n",
    "SUBSETS = [\"train\", \"valid\", \"test\"]\n",
    "LABELS_SUBDIR = \"labels\"      # Roboflow salva di default le label qui\n",
    "IMAGES_SUBDIR = \"images\"      # cartella immagini associata"
   ]
  },
  {
   "cell_type": "code",
   "execution_count": null,
   "id": "fc4c4c89",
   "metadata": {},
   "outputs": [],
   "source": [
    "ORIGINAL_CLASSES = [\n",
    "    \"Aerosols\",\"Aluminum can\",\"Aluminum caps\",\"Cardboard\",\"Cellulose\",\"Ceramic\",\n",
    "    \"Combined plastic\",\"Container for household chemicals\",\"Disposable tableware\",\n",
    "    \"Electronics\",\"Foil\",\"Furniture\",\"Glass bottle\",\"Iron utensils\",\"Liquid\",\n",
    "    \"Metal shavings\",\"Milk bottle\",\"Organic\",\"Paper\",\"Paper bag\",\"Paper cups\",\n",
    "    \"Paper shavings\",\"Papier mache\",\"Plastic bag\",\"Plastic bottle\",\"Plastic can\",\n",
    "    \"Plastic canister\",\"Plastic caps\",\"Plastic cup\",\"Plastic shaker\",\n",
    "    \"Plastic shavings\",\"Plastic toys\",\"Postal packaging\",\"Printing industry\",\n",
    "    \"Scrap metal\",\"Stretch film\",\"Tetra pack\",\"Textile\",\"Tin\",\"Unknown plastic\",\n",
    "    \"Wood\",\"Zip plastic bag\"\n",
    "]\n",
    "\n",
    "NEW_CLASSES = [\"glass\",\"metal\",\"organic\",\"paper\",\"plastic\"]"
   ]
  },
  {
   "cell_type": "code",
   "execution_count": null,
   "id": "e3148da3",
   "metadata": {},
   "outputs": [],
   "source": [
    "# define remapping from original to new classes\n",
    "REMAPPING = {\n",
    "    # ----- metallo -----\n",
    "    \"Aerosols\": \"metal\",\n",
    "    \"Aluminum can\": \"metal\",\n",
    "    \"Aluminum caps\": \"metal\",\n",
    "    \"Foil\": \"metal\",\n",
    "    \"Iron utensils\": \"metal\",\n",
    "    \"Metal shavings\": \"metal\",\n",
    "    \"Scrap metal\": \"metal\",\n",
    "    \"Tin\": \"metal\",\n",
    "    # ----- vetro -----\n",
    "    \"Glass bottle\": \"glass\",\n",
    "    \"Ceramic\": \"glass\",               # Cambia se vuoi trattarla diversamente\n",
    "    # ----- plastica -----\n",
    "    \"Combined plastic\": \"plastic\",\n",
    "    \"Container for household chemicals\": \"plastic\",\n",
    "    \"Disposable tableware\": \"plastic\",\n",
    "    \"Plastic bag\": \"plastic\",\n",
    "    \"Plastic bottle\": \"plastic\",\n",
    "    \"Plastic can\": \"plastic\",\n",
    "    \"Plastic canister\": \"plastic\",\n",
    "    \"Plastic caps\": \"plastic\",\n",
    "    \"Plastic cup\": \"plastic\",\n",
    "    \"Plastic shaker\": \"plastic\",\n",
    "    \"Plastic shavings\": \"plastic\",\n",
    "    \"Plastic toys\": \"plastic\",\n",
    "    \"Stretch film\": \"plastic\",\n",
    "    \"Unknown plastic\": \"plastic\",\n",
    "    \"Zip plastic bag\": \"plastic\",\n",
    "    # ----- carta -----\n",
    "    \"Cardboard\": \"paper\",\n",
    "    \"Cellulose\": \"paper\",\n",
    "    \"Paper\": \"paper\",\n",
    "    \"Paper bag\": \"paper\",\n",
    "    \"Paper cups\": \"paper\",\n",
    "    \"Paper shavings\": \"paper\",\n",
    "    \"Papier mache\": \"paper\",\n",
    "    \"Postal packaging\": \"paper\",\n",
    "    \"Printing industry\": \"paper\",\n",
    "    \"Tetra pack\": \"paper\",            # oppure \"plastic\" se preferisci\n",
    "    # ----- organico -----\n",
    "    \"Organic\": \"organic\",\n",
    "    \"Liquid\": \"organic\",\n",
    "    \"Wood\": \"organic\",\n",
    "    \"Textile\": \"organic\",\n",
    "    \"Furniture\": \"organic\",\n",
    "    'Electronics': 'organic',\n",
    "    'Milk bottle': 'plastic',  # Cambia se vuoi trattarla diversamente\n",
    "    # ----- medicale / oggetti taglienti -----\n",
    "    # (nessuna classe di partenza specificata; aggiungi qui se ne hai)\n",
    "    # \"Syringe\": \"medical\",\n",
    "}"
   ]
  },
  {
   "cell_type": "code",
   "execution_count": 7,
   "id": "b98c3585",
   "metadata": {},
   "outputs": [
    {
     "name": "stdout",
     "output_type": "stream",
     "text": [
      "✅ Tutte le classi sono mappate!\n"
     ]
    }
   ],
   "source": [
    "# check if remapping is complete\n",
    "missing = set(ORIGINAL_CLASSES) - set(REMAPPING.keys())\n",
    "if missing:\n",
    "    print(\"⚠️  Classi SENZA mappatura:\", missing)\n",
    "else:\n",
    "    print(\"✅ Tutte le classi sono mappate!\")\n"
   ]
  },
  {
   "cell_type": "code",
   "execution_count": 8,
   "id": "64950c35",
   "metadata": {},
   "outputs": [
    {
     "name": "stdout",
     "output_type": "stream",
     "text": [
      "Esempio di mapping (old→new): [(0, 2), (1, 2), (2, 2), (10, 2), (13, 2)]\n"
     ]
    }
   ],
   "source": [
    "# build index→index tables\n",
    "orig2new_idx = {ORIGINAL_CLASSES.index(k): NEW_CLASSES.index(v) for k, v in REMAPPING.items()}\n",
    "print(\"Esempio di mapping (old→new):\", list(orig2new_idx.items())[:5])"
   ]
  },
  {
   "cell_type": "code",
   "execution_count": 9,
   "id": "89aa2904",
   "metadata": {},
   "outputs": [
    {
     "name": "stdout",
     "output_type": "stream",
     "text": [
      "🚀 Rimappatura terminata!\n",
      "✅ File data.yaml aggiornato a ../../datasets/roboflow_2/data.yaml\n"
     ]
    }
   ],
   "source": [
    "\n",
    "def remap_label_file(src_path: Path, dst_path: Path):\n",
    "    with src_path.open() as f:\n",
    "        lines = f.readlines()\n",
    "\n",
    "    new_lines = []\n",
    "    for ln in lines:\n",
    "        parts = ln.strip().split()\n",
    "        if not parts:\n",
    "            continue\n",
    "        old_idx = int(parts[0])\n",
    "        if old_idx not in orig2new_idx:\n",
    "            raise ValueError(f\"Classe {old_idx} non mappata in {src_path}\")\n",
    "        parts[0] = str(orig2new_idx[old_idx])\n",
    "        new_lines.append(\" \".join(parts) + \"\\n\")\n",
    "\n",
    "    dst_path.parent.mkdir(parents=True, exist_ok=True)\n",
    "    with dst_path.open(\"w\") as f:\n",
    "        f.writelines(new_lines)\n",
    "\n",
    "# -------------------------------------------\n",
    "# Cell 7 – loop su train/valid/test\n",
    "# -------------------------------------------\n",
    "for subset in SUBSETS:\n",
    "    label_dir = DATASET_DIR / subset / LABELS_SUBDIR\n",
    "    img_dir   = DATASET_DIR / subset / IMAGES_SUBDIR\n",
    "\n",
    "    # cartelle di destinazione\n",
    "    if NEW_LABEL_DIR:\n",
    "        new_label_dir = NEW_LABEL_DIR / subset / LABELS_SUBDIR\n",
    "        new_img_dir   = NEW_LABEL_DIR / subset / IMAGES_SUBDIR\n",
    "    else:\n",
    "        new_label_dir = label_dir\n",
    "        new_img_dir   = img_dir\n",
    "\n",
    "    for txt_path in label_dir.rglob(\"*.txt\"):\n",
    "        rel = txt_path.relative_to(label_dir)\n",
    "        dst_txt = new_label_dir / rel\n",
    "        remap_label_file(txt_path, dst_txt)\n",
    "\n",
    "        # copia immagine corrispondente se stai creando una nuova cartella\n",
    "        if NEW_LABEL_DIR:\n",
    "            img_name = txt_path.with_suffix(\".jpg\").name  # o .png a seconda del dataset\n",
    "            src_img = img_dir / rel.parent / img_name\n",
    "            dst_img = new_img_dir / rel.parent / img_name\n",
    "            dst_img.parent.mkdir(parents=True, exist_ok=True)\n",
    "            if not dst_img.exists():\n",
    "                shutil.copy2(src_img, dst_img)\n",
    "\n",
    "print(\"🚀 Rimappatura terminata!\")\n",
    "\n",
    "# -------------------------------------------\n",
    "# Cell 8 – aggiorna il data.yaml\n",
    "# -------------------------------------------\n",
    "data_yaml_path = DATASET_DIR / \"data.yaml\"\n",
    "if NEW_LABEL_DIR:\n",
    "    data_yaml_path = NEW_LABEL_DIR / \"data.yaml\"\n",
    "\n",
    "if data_yaml_path.exists():\n",
    "    with open(data_yaml_path) as f:\n",
    "        data_cfg = yaml.safe_load(f)\n",
    "else:\n",
    "    data_cfg = {}\n",
    "\n",
    "data_cfg.update({\n",
    "    \"train\": str((NEW_LABEL_DIR or DATASET_DIR) / \"train\" / IMAGES_SUBDIR),\n",
    "    \"val\":   str((NEW_LABEL_DIR or DATASET_DIR) / \"valid\" / IMAGES_SUBDIR),\n",
    "    \"test\":  str((NEW_LABEL_DIR or DATASET_DIR) / \"test\" / IMAGES_SUBDIR),\n",
    "    \"nc\":    len(NEW_CLASSES),\n",
    "    \"names\": NEW_CLASSES,\n",
    "})\n",
    "\n",
    "with open(data_yaml_path, \"w\") as f:\n",
    "    yaml.safe_dump(data_cfg, f, sort_keys=False)\n",
    "\n",
    "print(f\"✅ File data.yaml aggiornato a {data_yaml_path}\")\n"
   ]
  }
 ],
 "metadata": {
  "kernelspec": {
   "display_name": ".venv",
   "language": "python",
   "name": "python3"
  },
  "language_info": {
   "codemirror_mode": {
    "name": "ipython",
    "version": 3
   },
   "file_extension": ".py",
   "mimetype": "text/x-python",
   "name": "python",
   "nbconvert_exporter": "python",
   "pygments_lexer": "ipython3",
   "version": "3.11.0"
  }
 },
 "nbformat": 4,
 "nbformat_minor": 5
}
