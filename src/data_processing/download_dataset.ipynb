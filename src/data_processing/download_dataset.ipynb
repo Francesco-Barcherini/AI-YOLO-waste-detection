{
 "cells": [
  {
   "cell_type": "markdown",
   "id": "cfa883a4",
   "metadata": {},
   "source": [
    "# download dataset\n",
    "after downloading roboflow-2 dataset rename it as `roboflow_official` and move it do `datasets` folder"
   ]
  },
  {
   "cell_type": "code",
   "execution_count": null,
   "id": "34a635d1",
   "metadata": {},
   "outputs": [],
   "source": [
    "!pip install roboflow"
   ]
  },
  {
   "cell_type": "code",
   "execution_count": null,
   "id": "3c1a2aff",
   "metadata": {},
   "outputs": [],
   "source": [
    "# Load API key from .env file\n",
    "from dotenv import load_dotenv\n",
    "import os\n",
    "load_dotenv()\n",
    "api_key = os.getenv(\"API_KEY\")"
   ]
  },
  {
   "cell_type": "code",
   "execution_count": null,
   "id": "cfa7ffd2",
   "metadata": {},
   "outputs": [],
   "source": [
    "from roboflow import Roboflow\n",
    "rf = Roboflow(api_key=api_key)\n",
    "# save dataset in ../../datasets/RoboFlow-2\n",
    "dataset_path = \"../../datasets/RoboFlow-2\"\n",
    "if not os.path.exists(dataset_path):\n",
    "    os.makedirs(dataset_path)\n",
    "project = rf.workspace(\"projectverba\").project(\"yolo-waste-detection\")\n",
    "version = project.version(1)\n",
    "dataset = version.download(\"yolov11\")\n"
   ]
  }
 ],
 "metadata": {
  "kernelspec": {
   "display_name": ".venv",
   "language": "python",
   "name": "python3"
  },
  "language_info": {
   "codemirror_mode": {
    "name": "ipython",
    "version": 3
   },
   "file_extension": ".py",
   "mimetype": "text/x-python",
   "name": "python",
   "nbconvert_exporter": "python",
   "pygments_lexer": "ipython3",
   "version": "3.11.0rc1"
  }
 },
 "nbformat": 4,
 "nbformat_minor": 5
}
