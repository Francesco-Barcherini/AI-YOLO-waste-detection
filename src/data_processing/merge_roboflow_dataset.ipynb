{
 "cells": [
  {
   "cell_type": "markdown",
   "id": "af713875",
   "metadata": {},
   "source": [
    "Use this script to merge the `datasets/roboflow_official` dataset into `datasets/roboflow_merged`.\n",
    "\n",
    "This is done in order to delete default splitting in `train` `test` and `valid`.\n"
   ]
  },
  {
   "cell_type": "code",
   "execution_count": 2,
   "id": "533cf778",
   "metadata": {},
   "outputs": [
    {
     "name": "stdout",
     "output_type": "stream",
     "text": [
      "Merging into /home/andrea/work/AI-waste-detection/datasets/roboflow_merged\n"
     ]
    }
   ],
   "source": [
    "from pathlib import Path\n",
    "import shutil\n",
    "import os\n",
    "\n",
    "# ---- User parameters ----\n",
    "DATASET_ROOT = Path('../../datasets/roboflow_official')  # Path to the dataset with 'train/', 'test/', 'valid/'\n",
    "MERGED_NAME  = 'roboflow_merged'          # Name for the merged dataset directory\n",
    "COPY_MODE    = 'copy'                       # 'copy' or 'symlink'\n",
    "# -------------------------\n",
    "\n",
    "TARGET_DIR   = DATASET_ROOT.parent / MERGED_NAME\n",
    "IMAGES_DIR   = TARGET_DIR / 'images'\n",
    "LABELS_DIR   = TARGET_DIR / 'labels'\n",
    "\n",
    "print(f'Merging into {TARGET_DIR.resolve()}')\n",
    "IMAGES_DIR.mkdir(parents=True, exist_ok=True)\n",
    "LABELS_DIR.mkdir(parents=True, exist_ok=True)\n"
   ]
  },
  {
   "cell_type": "code",
   "execution_count": 3,
   "id": "8273d2a5",
   "metadata": {},
   "outputs": [],
   "source": [
    "def merge_split(split: str):\n",
    "    \"\"\"Copy or symlink all images and labels from a given split (train/test/valid).\"\"\"\n",
    "    images_src = DATASET_ROOT / split / 'images'\n",
    "    labels_src = DATASET_ROOT / split / 'labels'\n",
    "\n",
    "    for img_path in images_src.glob('*'):\n",
    "        dest = IMAGES_DIR / img_path.name\n",
    "        if dest.exists():                       # Handle name collision\n",
    "            dest = IMAGES_DIR / f'{split}_{img_path.name}'\n",
    "        if COPY_MODE == 'copy':\n",
    "            shutil.copy2(img_path, dest)\n",
    "        else:\n",
    "            dest.symlink_to(img_path.resolve())\n",
    "\n",
    "    for lbl_path in labels_src.glob('*'):\n",
    "        dest = LABELS_DIR / lbl_path.name\n",
    "        if dest.exists():\n",
    "            dest = LABELS_DIR / f'{split}_{lbl_path.name}'\n",
    "        if COPY_MODE == 'copy':\n",
    "            shutil.copy2(lbl_path, dest)\n",
    "        else:\n",
    "            dest.symlink_to(lbl_path.resolve())\n",
    "\n",
    "    print(f'Finished {split}: {len(list(images_src.glob(\"*\")))} images, {len(list(labels_src.glob(\"*\")))} labels')\n"
   ]
  },
  {
   "cell_type": "code",
   "execution_count": 4,
   "id": "68fd11d2",
   "metadata": {},
   "outputs": [
    {
     "name": "stdout",
     "output_type": "stream",
     "text": [
      "Finished train: 11466 images, 11466 labels\n",
      "Finished test: 546 images, 546 labels\n",
      "Finished valid: 1092 images, 1092 labels\n",
      "All done! Total images: 13104, total labels: 13104\n"
     ]
    }
   ],
   "source": [
    "for split in ['train', 'test', 'valid']:\n",
    "    merge_split(split)\n",
    "\n",
    "total_images = len(list(IMAGES_DIR.glob('*')))\n",
    "total_labels = len(list(LABELS_DIR.glob('*')))\n",
    "print(f'All done! Total images: {total_images}, total labels: {total_labels}')\n"
   ]
  }
 ],
 "metadata": {
  "kernelspec": {
   "display_name": ".venv",
   "language": "python",
   "name": "python3"
  },
  "language_info": {
   "codemirror_mode": {
    "name": "ipython",
    "version": 3
   },
   "file_extension": ".py",
   "mimetype": "text/x-python",
   "name": "python",
   "nbconvert_exporter": "python",
   "pygments_lexer": "ipython3",
   "version": "3.11.0rc1"
  }
 },
 "nbformat": 4,
 "nbformat_minor": 5
}
